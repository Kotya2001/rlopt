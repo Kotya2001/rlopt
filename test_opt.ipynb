{
 "cells": [
  {
   "cell_type": "code",
   "execution_count": 1,
   "id": "9a2b02f0-bdbe-4bb6-90c8-8ede5f06f451",
   "metadata": {},
   "outputs": [],
   "source": [
    "import numpy as np\n",
    "from ortools.linear_solver import pywraplp"
   ]
  },
  {
   "cell_type": "code",
   "execution_count": 2,
   "id": "ee25f7c2-1c58-455a-92d7-d9a32d9a939c",
   "metadata": {},
   "outputs": [],
   "source": [
    "m = 10 # num vars\n",
    "n = 30  # num constraints\n",
    "ubounds = 1 # upper bound of constraints"
   ]
  },
  {
   "cell_type": "code",
   "execution_count": 3,
   "id": "4b3fe5ed-cb3e-4643-b7d5-56e0ced35c3f",
   "metadata": {},
   "outputs": [],
   "source": [
    "# data simpling\n",
    "rand = np.random.RandomState(3)\n",
    "p = np.round(rand.random_sample(m)*5,1) # goal koef\n",
    "c = np.round(rand.random_sample((n,m))*10 * (rand.random_sample(m)*(p/5)*0.3 + 1),1) # constrants\n",
    "b = np.round(c.sum(axis = 1) * (rand.random_sample(n) * 0.5 + 0.3),0)"
   ]
  },
  {
   "cell_type": "code",
   "execution_count": 4,
   "id": "8e882aa1-d37c-467e-a5ad-d596a511eb38",
   "metadata": {},
   "outputs": [],
   "source": [
    "solver = pywraplp.Solver.CreateSolver('SCIP')"
   ]
  },
  {
   "cell_type": "code",
   "execution_count": 5,
   "id": "8d3fcbd4-5858-4165-aaf4-366fd5127475",
   "metadata": {},
   "outputs": [],
   "source": [
    "x = {}\n",
    "for j in range(m):\n",
    "    x[j] = solver.IntVar(0, ubounds, f\"x[{j}]\")"
   ]
  },
  {
   "cell_type": "code",
   "execution_count": 6,
   "id": "47d62ebb-7f5f-46c7-bc7a-8d4a23d791e6",
   "metadata": {},
   "outputs": [],
   "source": [
    "for i in range(n):\n",
    "    constraint_expr = [c[i,j] * x[j] for j in range(m)]\n",
    "    solver.Add(sum(constraint_expr) <= b[i])"
   ]
  },
  {
   "cell_type": "code",
   "execution_count": 7,
   "id": "69c07e06-96af-4940-a695-834eabd4cdb6",
   "metadata": {},
   "outputs": [],
   "source": [
    "obj_expr = [p[j] * x[j] for j in range(m)]\n",
    "solver.Maximize(solver.Sum(obj_expr))"
   ]
  },
  {
   "cell_type": "code",
   "execution_count": 8,
   "id": "593d494b-e541-4a59-8f9f-5db2111a3fcf",
   "metadata": {},
   "outputs": [],
   "source": [
    "solver.EnableOutput()"
   ]
  },
  {
   "cell_type": "code",
   "execution_count": 9,
   "id": "c84330b6-5810-4671-91c6-841f7ec2e845",
   "metadata": {},
   "outputs": [
    {
     "name": "stdout",
     "output_type": "stream",
     "text": [
      "feasible solution found by trivial heuristic after 0.0 seconds, objective value 0.000000e+00\n",
      "presolving:\n",
      "   (0.0s) probing cycle finished: starting next cycle\n",
      "   Deactivated symmetry handling methods, since SCIP was built without symmetry detector (SYM=none).\n",
      "presolving (1 rounds: 1 fast, 1 medium, 1 exhaustive):\n",
      " 0 deleted vars, 0 deleted constraints, 0 added constraints, 0 tightened bounds, 0 added holes, 0 changed sides, 0 changed coefficients\n",
      " 0 implications, 4 cliques\n",
      "presolved problem has 10 variables (10 bin, 0 int, 0 impl, 0 cont) and 30 constraints\n",
      "     30 constraints of type <linear>\n",
      "transformed objective value is always integral (scale: 0.1)\n",
      "Presolving Time: 0.00\n",
      "transformed 1/1 original solutions to the transformed problem space\n",
      "\n",
      " time | node  | left  |LP iter|LP it/n|mem/heur|mdpt |vars |cons |rows |cuts |sepa|confs|strbr|  dualbound   | primalbound  |  gap   | compl. \n",
      "p 0.0s|     1 |     0 |     0 |     - |   locks|   0 |  10 |  30 |  30 |   0 |  0 |   0 |   0 | 2.350000e+01 | 3.500000e+00 | 571.43%| unknown\n",
      "  0.0s|     1 |     0 |     3 |     - |   789k |   0 |  10 |  30 |  30 |   0 |  0 |   0 |   0 | 1.306982e+01 | 3.500000e+00 | 273.42%| unknown\n",
      "r 0.0s|     1 |     0 |     3 |     - |simplero|   0 |  10 |  30 |  30 |   0 |  0 |   0 |   0 | 1.306982e+01 | 8.000000e+00 |  63.37%| unknown\n",
      "r 0.0s|     1 |     0 |     3 |     - |shifting|   0 |  10 |  30 |  30 |   0 |  0 |   0 |   0 | 1.306982e+01 | 9.000000e+00 |  45.22%| unknown\n",
      "i 0.0s|     1 |     0 |     3 |     - |  oneopt|   0 |  10 |  30 |  30 |   0 |  0 |   0 |   0 | 1.306982e+01 | 1.160000e+01 |  12.67%| unknown\n",
      "  0.0s|     1 |     0 |    10 |     - |   794k |   0 |  10 |  30 |  31 |   1 |  1 |   0 |   0 | 1.170527e+01 | 1.160000e+01 |   0.91%| unknown\n",
      "  0.0s|     1 |     0 |    12 |     - |   794k |   0 |  10 |  30 |  12 |   1 |  1 |   0 |   0 | 1.160000e+01 | 1.160000e+01 |   0.00%| unknown\n",
      "  0.0s|     1 |     0 |    12 |     - |   794k |   0 |  10 |  30 |  12 |   1 |  1 |   0 |   0 | 1.160000e+01 | 1.160000e+01 |   0.00%| unknown\n",
      "\n",
      "SCIP Status        : problem is solved [optimal solution found]\n",
      "Solving Time (sec) : 0.01\n",
      "Solving Nodes      : 1\n",
      "Primal Bound       : +1.16000000000000e+01 (5 solutions)\n",
      "Dual Bound         : +1.16000000000000e+01\n",
      "Gap                : 0.00 %\n"
     ]
    }
   ],
   "source": [
    "status = solver.Solve()"
   ]
  },
  {
   "cell_type": "code",
   "execution_count": 10,
   "id": "7d16e800-334a-4fb7-bab0-896de2dcf79e",
   "metadata": {},
   "outputs": [
    {
     "name": "stdout",
     "output_type": "stream",
     "text": [
      "Objective value = 11.599999999999998\n",
      "\n",
      "Problem solved in 76 milliseconds\n",
      "Problem solved in 12 iterations\n",
      "Problem solved in 1 branch-and-bound nodes\n"
     ]
    }
   ],
   "source": [
    "if status == pywraplp.Solver.OPTIMAL:\n",
    "    print('Objective value =', solver.Objective().Value())\n",
    "    # for j in range(m):\n",
    "    #    print(x[j].name(), ' = ', x[j].solution_value())\n",
    "    print()\n",
    "    print(f\"Problem solved in {solver.wall_time()} milliseconds\")\n",
    "    print(f\"Problem solved in {solver.iterations()} iterations\")\n",
    "    print(f\"Problem solved in {solver.nodes()} branch-and-bound nodes\")\n",
    "else:\n",
    "    print(\"The problem does not have an optimal solution.\")"
   ]
  },
  {
   "cell_type": "code",
   "execution_count": null,
   "id": "d0080c07-4832-48f0-a5b5-c9fc25be366d",
   "metadata": {},
   "outputs": [],
   "source": []
  }
 ],
 "metadata": {
  "kernelspec": {
   "display_name": "Python 3 (ipykernel)",
   "language": "python",
   "name": "python3"
  },
  "language_info": {
   "codemirror_mode": {
    "name": "ipython",
    "version": 3
   },
   "file_extension": ".py",
   "mimetype": "text/x-python",
   "name": "python",
   "nbconvert_exporter": "python",
   "pygments_lexer": "ipython3",
   "version": "3.10.1"
  }
 },
 "nbformat": 4,
 "nbformat_minor": 5
}
